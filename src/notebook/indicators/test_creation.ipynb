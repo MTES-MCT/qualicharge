{
 "cells": [
  {
   "cell_type": "markdown",
   "id": "db7caa84",
   "metadata": {},
   "source": [
    "# QualiCharge data: Test of indicators creation\n",
    "Example of indicators creation"
   ]
  },
  {
   "cell_type": "code",
   "execution_count": null,
   "id": "5a70e388",
   "metadata": {},
   "outputs": [],
   "source": [
    "import pandas as pd\n",
    "import util, gen_indicators"
   ]
  },
  {
   "cell_type": "markdown",
   "id": "476d84fe",
   "metadata": {},
   "source": [
    "## Principes\n",
    "Chaque indicateur est défini par un id (ex. 'i1'), un nom (ex. 'cumul de puissance par région'), une source (ex. 'static'), une table destination (ex. 'i1_indicator') et une fonction de calcul (ex. 'indic_i1').\n",
    "\n",
    "Ces données de configuration sont gérées de façon séparée (ex. fichier .INI).\n",
    "\n",
    "Les données sources (DataFrame) sont issues des tables présentes. Elles sont définies par une requète gérée également de façon séparée (ex. fichier .INI).\n",
    "\n",
    "Les fonctions de calcul sont présentes dans un fichier python séparé pour ne pas encombrer les notebooks."
   ]
  },
  {
   "cell_type": "markdown",
   "id": "51f9de31",
   "metadata": {},
   "source": [
    "## Données de configuration"
   ]
  },
  {
   "cell_type": "markdown",
   "id": "687878af",
   "metadata": {},
   "source": [
    "Exemples sous la forme de dictionnaires\n",
    "- indicators_dict : liste des indicateurs avec les informations associées\n",
    "- sql_sources_dict : liste des données source utilisées pour le calcul des indicateurs avec les requètes SQL associées"
   ]
  },
  {
   "cell_type": "code",
   "execution_count": null,
   "id": "51e7fa22",
   "metadata": {},
   "outputs": [],
   "source": [
    "# ou bien à lire dans un fichier de config (ex. .INI)\n",
    "indicators_dict = {\n",
    "    'i1': {\n",
    "        'name': 'nombre de pdc par departement',\n",
    "        'table': 'i1_indicator',\n",
    "        'create': 'indic_i1',\n",
    "        'source': 'static'}\n",
    "}"
   ]
  },
  {
   "cell_type": "code",
   "execution_count": null,
   "id": "964e62e9",
   "metadata": {},
   "outputs": [],
   "source": [
    "# ou bien à lire dans un fichier de config (ex. .INI)\n",
    "sql_sources_dict = {\n",
    "    'station': 'SELECT * FROM Station',\n",
    "    'pdc': 'SELECT * FROM PointDeCharge',\n",
    "    'static': \"\"\"\n",
    "        SELECT\n",
    "          Amenageur.nom_amenageur,\n",
    "          Amenageur.siren_amenageur,\n",
    "          Amenageur.contact_amenageur,\n",
    "          Operateur.nom_operateur,\n",
    "          Operateur.contact_operateur,\n",
    "          Operateur.telephone_operateur,\n",
    "          Enseigne.nom_enseigne,\n",
    "          Station.id_station_itinerance,\n",
    "          Station.id_station_local,\n",
    "          Station.nom_station,\n",
    "          Station.implantation_station,\n",
    "          Localisation.adresse_station,\n",
    "          Localisation.code_insee_commune,\n",
    "          ST_AsGeoJSON(Localisation.\"coordonneesXY\") :: json -> 'coordinates'  as coordonneesXY,\n",
    "          Station.nbre_pdc,\n",
    "          PointDeCharge.id_pdc_itinerance,\n",
    "          PointDeCharge.id_pdc_local,\n",
    "          PointDeCharge.puissance_nominale,\n",
    "          PointDeCharge.prise_type_ef,\n",
    "          PointDeCharge.prise_type_2,\n",
    "          PointDeCharge.prise_type_combo_ccs,\n",
    "          PointDeCharge.prise_type_chademo,\n",
    "          PointDeCharge.prise_type_autre,\n",
    "          PointDeCharge.gratuit,\n",
    "          PointDeCharge.paiement_acte,\n",
    "          PointDeCharge.paiement_cb,\n",
    "          PointDeCharge.paiement_autre,\n",
    "          PointDeCharge.tarification,\n",
    "          Station.condition_acces,\n",
    "          PointDeCharge.reservation,\n",
    "          Station.horaires,\n",
    "          PointDeCharge.accessibilite_pmr,\n",
    "          PointDeCharge.restriction_gabarit,\n",
    "          Station.station_deux_roues,\n",
    "          Station.raccordement,\n",
    "          Station.num_pdl,\n",
    "          Station.date_mise_en_service,\n",
    "          PointDeCharge.observations,\n",
    "          Station.date_maj,\n",
    "          PointDeCharge.cable_t2_attache\n",
    "        FROM\n",
    "          PointDeCharge\n",
    "          INNER JOIN Station ON PointDeCharge.station_id = Station.id\n",
    "          INNER JOIN Amenageur ON Station.amenageur_id = Amenageur.id\n",
    "          INNER JOIN Operateur ON Station.operateur_id = Operateur.id\n",
    "          INNER JOIN Enseigne ON Station.enseigne_id = Enseigne.id\n",
    "          INNER JOIN Localisation ON Station.localisation_id = Localisation.id\n",
    "        \"\"\"\n",
    "}"
   ]
  },
  {
   "cell_type": "markdown",
   "id": "515f44e4",
   "metadata": {},
   "source": [
    "## Génération des indicateurs"
   ]
  },
  {
   "cell_type": "code",
   "execution_count": null,
   "id": "3e9b805b",
   "metadata": {},
   "outputs": [],
   "source": [
    "import os\n",
    "from sqlalchemy import create_engine\n",
    "\n",
    "# Get database URL from the environment\n",
    "database_url = os.getenv(\"DATABASE_URL\")\n",
    "\n",
    "# Create a database engine that will be used to generate connections\n",
    "engine = create_engine(database_url)\n",
    "\n",
    "# choix des indicateurs à mettre à jour\n",
    "indics = ['i1']\n",
    "\n",
    "# initialisation de la liste des DataFrame sources pour les indicateurs à mettre à jour\n",
    "data_sources = util.init_data_sources(indics, indicators_dict, sql_sources_dict, engine)\n",
    "print({name: len(data) for name, data in data_sources.items()})"
   ]
  },
  {
   "cell_type": "code",
   "execution_count": null,
   "id": "4ac040a1",
   "metadata": {},
   "outputs": [],
   "source": [
    "# creation des tables des indicateurs définis dans la liste 'indics'\n",
    "for name in indics:\n",
    "    print('\\nindicator : ' + name + '\\n')\n",
    "    indic_att = indicators_dict['name']\n",
    "    \n",
    "    # DataFrame source\n",
    "    indic_source = data_sources[indic_att['source']]\n",
    "\n",
    "    # Génération de l'indicateur (DataFrame) par appel de la fonction définie par le paramètre 'create'\n",
    "    indic_df = vars(gen_indicators)[indic_att['create']](indic_source)\n",
    "\n",
    "    # Génération de la table définie par le paramètre 'table'\n",
    "    util.indic_to_table(indic_df, indic_att['table'], engine, option=\"replace\")\n",
    "\n",
    "# ajouter/mettre à jour une table avec les indicateurs présents et leur date de mise à jour"
   ]
  }
 ],
 "metadata": {
  "kernelspec": {
   "display_name": "Python 3 (ipykernel)",
   "language": "python",
   "name": "python3"
  }
 },
 "nbformat": 4,
 "nbformat_minor": 5
}
