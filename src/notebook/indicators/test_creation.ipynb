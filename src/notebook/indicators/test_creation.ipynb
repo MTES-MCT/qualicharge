{
 "cells": [
  {
   "cell_type": "markdown",
   "id": "cd19f343-5ebb-4543-a4ad-5db1e00c007a",
   "metadata": {},
   "source": [
    "# QualiCharge data: Test of indicators creation\n",
    "Example of indicators creation"
   ]
  },
  {
   "cell_type": "code",
   "execution_count": 1,
   "id": "49401e52-5560-4a77-b5ef-12c8491ddcf6",
   "metadata": {},
   "outputs": [],
   "source": [
    "import pandas as pd\n",
    "import util, gen_indicators"
   ]
  },
  {
   "cell_type": "markdown",
   "id": "8f627fd0-2666-4066-b5ff-845a125bf1e4",
   "metadata": {},
   "source": [
    "## Principes\n",
    "Chaque indicateur est défini par un id (ex. 'i1'), un nom (ex. 'cumul de puissance par région'), une source (ex. 'static'), une table destination (ex. 'i1_indicator') et une fonction de calcul (ex. 'indic_i1').\n",
    "\n",
    "Ces données de configuration sont gérées de façon séparée (ex. fichier .INI).\n",
    "\n",
    "Les données sources (DataFrame) sont issues des tables présentes. Elles sont définies par une requète gérée également de façon séparée (ex. fichier .INI).\n",
    "\n",
    "Les fonctions de calcul sont présentes dans un fichier python séparé pour ne pas encombrer les notebooks."
   ]
  },
  {
   "cell_type": "markdown",
   "id": "b8c6b483-b391-4423-840d-898f120dcb40",
   "metadata": {},
   "source": [
    "## Données de configuration"
   ]
  },
  {
   "cell_type": "markdown",
   "id": "634fba89-c3a3-4726-9e1c-fee8c865c89b",
   "metadata": {},
   "source": [
    "Exemples sous la forme de dictionnaires\n",
    "- indicators_dict : liste des indicateurs avec les informations associées\n",
    "- sql_sources_dict : liste des données source utilisées pour le calcul des indicateurs avec les requètes SQL associées"
   ]
  },
  {
   "cell_type": "code",
   "execution_count": 2,
   "id": "b4a63514-7c27-41a9-b52a-96e40c5a4892",
   "metadata": {},
   "outputs": [],
   "source": [
    "# ou bien à lire dans un fichier de config (ex. .INI)\n",
    "indicators_dict = {\n",
    "    'i1': {\n",
    "        'name': 'nombre de pdc par departement',\n",
    "        'table': 'i1_indicator',\n",
    "        'create': 'indic_i1',\n",
    "        'source': 'static'}\n",
    "}"
   ]
  },
  {
   "cell_type": "code",
   "execution_count": 3,
   "id": "98b7906f-9578-4cb7-b99f-2710688b6b26",
   "metadata": {},
   "outputs": [],
   "source": [
    "# ou bien à lire dans un fichier de config (ex. .INI)\n",
    "sql_sources_dict = {\n",
    "    'station': 'SELECT * FROM Station',\n",
    "    'pdc': 'SELECT * FROM PointDeCharge',\n",
    "    'static': \"\"\"\n",
    "        SELECT\n",
    "          Amenageur.nom_amenageur,\n",
    "          Amenageur.siren_amenageur,\n",
    "          Amenageur.contact_amenageur,\n",
    "          Operateur.nom_operateur,\n",
    "          Operateur.contact_operateur,\n",
    "          Operateur.telephone_operateur,\n",
    "          Enseigne.nom_enseigne,\n",
    "          Station.id_station_itinerance,\n",
    "          Station.id_station_local,\n",
    "          Station.nom_station,\n",
    "          Station.implantation_station,\n",
    "          Localisation.adresse_station,\n",
    "          Localisation.code_insee_commune,\n",
    "          ST_AsGeoJSON(Localisation.\"coordonneesXY\") :: json -> 'coordinates'  as coordonneesXY,\n",
    "          Station.nbre_pdc,\n",
    "          PointDeCharge.id_pdc_itinerance,\n",
    "          PointDeCharge.id_pdc_local,\n",
    "          PointDeCharge.puissance_nominale,\n",
    "          PointDeCharge.prise_type_ef,\n",
    "          PointDeCharge.prise_type_2,\n",
    "          PointDeCharge.prise_type_combo_ccs,\n",
    "          PointDeCharge.prise_type_chademo,\n",
    "          PointDeCharge.prise_type_autre,\n",
    "          PointDeCharge.gratuit,\n",
    "          PointDeCharge.paiement_acte,\n",
    "          PointDeCharge.paiement_cb,\n",
    "          PointDeCharge.paiement_autre,\n",
    "          PointDeCharge.tarification,\n",
    "          Station.condition_acces,\n",
    "          PointDeCharge.reservation,\n",
    "          Station.horaires,\n",
    "          PointDeCharge.accessibilite_pmr,\n",
    "          PointDeCharge.restriction_gabarit,\n",
    "          Station.station_deux_roues,\n",
    "          Station.raccordement,\n",
    "          Station.num_pdl,\n",
    "          Station.date_mise_en_service,\n",
    "          PointDeCharge.observations,\n",
    "          Station.date_maj,\n",
    "          PointDeCharge.cable_t2_attache\n",
    "        FROM\n",
    "          PointDeCharge\n",
    "          INNER JOIN Station ON PointDeCharge.station_id = Station.id\n",
    "          INNER JOIN Amenageur ON Station.amenageur_id = Amenageur.id\n",
    "          INNER JOIN Operateur ON Station.operateur_id = Operateur.id\n",
    "          INNER JOIN Enseigne ON Station.enseigne_id = Enseigne.id\n",
    "          INNER JOIN Localisation ON Station.localisation_id = Localisation.id\n",
    "        \"\"\"\n",
    "}"
   ]
  },
  {
   "cell_type": "markdown",
   "id": "845163cd-e4af-4e74-84b6-e12848fedb14",
   "metadata": {},
   "source": [
    "## Génération des indicateurs"
   ]
  },
  {
   "cell_type": "code",
   "execution_count": 4,
   "id": "28e9fd37-db3c-4dd8-8026-a3e132139028",
   "metadata": {},
   "outputs": [
    {
     "name": "stdout",
     "output_type": "stream",
     "text": [
      "{'static': 20400}\n"
     ]
    }
   ],
   "source": [
    "import os\n",
    "from sqlalchemy import create_engine\n",
    "\n",
    "# Get database URL from the environment\n",
    "database_url = os.getenv(\"DATABASE_URL\")\n",
    "\n",
    "# Create a database engine that will be used to generate connections\n",
    "engine = create_engine(database_url)\n",
    "\n",
    "# choix des indicateurs à mettre à jour\n",
    "indics = ['i1']\n",
    "\n",
    "# initialisation de la liste des DataFrame sources pour les indicateurs à mettre à jour\n",
    "data_sources = util.init_data_sources(indics, indicators_dict, sql_sources_dict, engine)\n",
    "print({name: len(data) for name, data in data_sources.items()})"
   ]
  },
  {
   "cell_type": "code",
   "execution_count": 6,
   "id": "d71b4e34-949d-4aa2-9a47-9c55f4f00033",
   "metadata": {},
   "outputs": [
    {
     "name": "stdout",
     "output_type": "stream",
     "text": [
      "\n",
      "indicator : i1\n",
      "\n",
      "   departement  nombre_pdc                                  uuid\n",
      "0           01          30  7fe6562a-d4f7-4ec0-8dd5-ffdf5a94141e\n",
      "1           02          42  d693a597-1473-448f-a783-eb7b823b0dcc\n",
      "2           03           6  826b19bc-f2a1-4594-a5f4-74987367f44c\n",
      "3           04           2  43fdd522-ec37-405f-8eb8-fff51e43cac7\n",
      "4           05          17  8f011c5f-c8e5-46f1-af98-6404f0d63294\n",
      "..         ...         ...                                   ...\n",
      "82          92          22  420bf42d-8adb-4f5b-bfeb-d5742cea6bef\n",
      "83          93          32  9efe8c88-8f5b-40f1-b746-4a6cd25d72da\n",
      "84          94          18  f413d54b-cd4a-43c8-9cc2-5943a962fb0b\n",
      "85          95           9  9333e2ad-1575-4be2-a000-7f2f1612e5ca\n",
      "86          97           3  4b08a3ae-ede8-46e7-93bf-52c37950f4b6\n",
      "\n",
      "[87 rows x 3 columns]\n",
      "   count\n",
      "0     87\n"
     ]
    }
   ],
   "source": [
    "# creation des tables des indicateurs définis dans la liste 'indics'\n",
    "for name in indics:\n",
    "    print('\\nindicator : ' + name + '\\n')\n",
    "    indic_att = indicators_dict['name']\n",
    "    \n",
    "    # DataFrame source\n",
    "    indic_source = data_sources[indic_att['source']]\n",
    "\n",
    "    # Génération de l'indicateur (DataFrame) par appel de la fonction définie par le paramètre 'create'\n",
    "    indic_df = vars(gen_indicators)[indic_att['create']](indic_source)\n",
    "\n",
    "    # Génération de la table définie par le paramètre 'table'\n",
    "    util.indic_to_table(indic_df, indic_att['table'], engine, option=\"replace\")\n",
    "\n",
    "# ajouter/mettre à jour une table avec les indicateurs présents et leur date de mise à jour"
   ]
  }
 ],
 "metadata": {
  "kernelspec": {
   "display_name": "Python 3 (ipykernel)",
   "language": "python",
   "name": "python3"
  },
  "language_info": {
   "codemirror_mode": {
    "name": "ipython",
    "version": 3
   },
   "file_extension": ".py",
   "mimetype": "text/x-python",
   "name": "python",
   "nbconvert_exporter": "python",
   "pygments_lexer": "ipython3",
   "version": "3.11.9"
  }
 },
 "nbformat": 4,
 "nbformat_minor": 5
}
